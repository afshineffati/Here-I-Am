{
 "cells": [
  {
   "cell_type": "code",
   "execution_count": 4,
   "metadata": {},
   "outputs": [
    {
     "data": {
      "text/plain": [
       "'Ths wbst s fr lsrs LL!'"
      ]
     },
     "execution_count": 4,
     "metadata": {},
     "output_type": "execute_result"
    }
   ],
   "source": [
    "#Neutralize spammer thread\n",
    "string_='This website is for losers LOL!'\n",
    "\"\".join([c for c in string_ if c not in 'aeiouAEIOU'])"
   ]
  },
  {
   "cell_type": "code",
   "execution_count": 5,
   "metadata": {},
   "outputs": [
    {
     "data": {
      "text/plain": [
       "[3, 2, 1, 6, 9, 16, 31, 56, 103, 190]"
      ]
     },
     "execution_count": 5,
     "metadata": {},
     "output_type": "execute_result"
    }
   ],
   "source": [
    "#Tribonacci\n",
    "def tribonacci(signature,n):\n",
    "    result = signature\n",
    "    while len(result) <= n-1:\n",
    "        counter = 0\n",
    "        for i in result[-3:]:\n",
    "            counter += i\n",
    "        result.append(counter)\n",
    "    return result[:n]\n",
    "\n",
    "tribonacci([3,2,1],10)"
   ]
  },
  {
   "cell_type": "code",
   "execution_count": null,
   "metadata": {},
   "outputs": [],
   "source": []
  }
 ],
 "metadata": {
  "interpreter": {
   "hash": "c4999aee5aad44e352991ebb3377535a184ff1bea0043ec3c46e72a418188e3f"
  },
  "kernelspec": {
   "display_name": "Python 3.8.5 64-bit ('base': conda)",
   "name": "python3"
  },
  "language_info": {
   "codemirror_mode": {
    "name": "ipython",
    "version": 3
   },
   "file_extension": ".py",
   "mimetype": "text/x-python",
   "name": "python",
   "nbconvert_exporter": "python",
   "pygments_lexer": "ipython3",
   "version": "3.8.5"
  }
 },
 "nbformat": 4,
 "nbformat_minor": 4
}
