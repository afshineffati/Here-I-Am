{
 "cells": [
  {
   "cell_type": "code",
   "execution_count": 4,
   "metadata": {},
   "outputs": [
    {
     "data": {
      "text/plain": [
       "'Ths wbst s fr lsrs LL!'"
      ]
     },
     "execution_count": 4,
     "metadata": {},
     "output_type": "execute_result"
    }
   ],
   "source": [
    "#Neutralize spammer thread\n",
    "string_='This website is for losers LOL!'\n",
    "\"\".join([c for c in string_ if c not in 'aeiouAEIOU'])"
   ]
  },
  {
   "cell_type": "code",
   "execution_count": 5,
   "metadata": {},
   "outputs": [
    {
     "data": {
      "text/plain": [
       "[3, 2, 1, 6, 9, 16, 31, 56, 103, 190]"
      ]
     },
     "execution_count": 5,
     "metadata": {},
     "output_type": "execute_result"
    }
   ],
   "source": [
    "#Tribonacci\n",
    "def tribonacci(signature,n):\n",
    "    result = signature\n",
    "    while len(result) <= n-1:\n",
    "        counter = 0\n",
    "        for i in result[-3:]:\n",
    "            counter += i\n",
    "        result.append(counter)\n",
    "    return result[:n]\n",
    "\n",
    "tribonacci([3,2,1],10)"
   ]
  },
  {
   "cell_type": "code",
   "execution_count": 1,
   "metadata": {},
   "outputs": [
    {
     "data": {
      "text/plain": [
       "True"
      ]
     },
     "execution_count": 1,
     "metadata": {},
     "output_type": "execute_result"
    }
   ],
   "source": [
    "def is_square(n):\n",
    "    return n>=0 and (n**0.5) % 1 == 0\n",
    "\n",
    "is_square(16)"
   ]
  },
  {
   "cell_type": "code",
   "execution_count": 5,
   "metadata": {},
   "outputs": [
    {
     "data": {
      "text/plain": [
       "-1"
      ]
     },
     "execution_count": 5,
     "metadata": {},
     "output_type": "execute_result"
    }
   ],
   "source": [
    "def find_it(seq):\n",
    "    r=0\n",
    "    for i in set(seq):\n",
    "        if seq.count(i)%2 > 0:\n",
    "            r=i\n",
    "    return r\n",
    "\n",
    "\n",
    "find_it([1,1,2,-2,5,2,4,4,-1,-2,5])"
   ]
  },
  {
   "cell_type": "code",
   "execution_count": 47,
   "metadata": {},
   "outputs": [
    {
     "data": {
      "text/plain": [
       "'Camel Casing Bar'"
      ]
     },
     "execution_count": 47,
     "metadata": {},
     "output_type": "execute_result"
    }
   ],
   "source": [
    "def solution(s):\n",
    "    res = s[0]\n",
    "    for i in s[1:]:\n",
    "        if i.isupper():\n",
    "            res = res + ' ' + i\n",
    "        else:\n",
    "            res = res + i\n",
    "    return res\n",
    "\n",
    "solution('CamelCasingBar')"
   ]
  },
  {
   "cell_type": "code",
   "execution_count": 64,
   "metadata": {},
   "outputs": [
    {
     "data": {
      "text/plain": [
       "'  Camel Casing Bar'"
      ]
     },
     "execution_count": 64,
     "metadata": {},
     "output_type": "execute_result"
    }
   ],
   "source": [
    "def solution(s):\n",
    "    return ''.join(' ' + c if c.isupper() else c for c in s)\n",
    "\n",
    "solution(' CamelCasingBar')"
   ]
  },
  {
   "cell_type": "code",
   "execution_count": null,
   "metadata": {},
   "outputs": [],
   "source": []
  }
 ],
 "metadata": {
  "interpreter": {
   "hash": "c4999aee5aad44e352991ebb3377535a184ff1bea0043ec3c46e72a418188e3f"
  },
  "kernelspec": {
   "display_name": "Python 3.8.5 64-bit ('base': conda)",
   "name": "python3"
  },
  "language_info": {
   "codemirror_mode": {
    "name": "ipython",
    "version": 3
   },
   "file_extension": ".py",
   "mimetype": "text/x-python",
   "name": "python",
   "nbconvert_exporter": "python",
   "pygments_lexer": "ipython3",
   "version": "3.8.5"
  }
 },
 "nbformat": 4,
 "nbformat_minor": 4
}
